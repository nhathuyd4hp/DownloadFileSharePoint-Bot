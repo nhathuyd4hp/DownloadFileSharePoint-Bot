{
 "cells": [
  {
   "cell_type": "code",
   "execution_count": 22,
   "metadata": {},
   "outputs": [],
   "source": [
    "import pandas as pd\n",
    "import os"
   ]
  },
  {
   "cell_type": "code",
   "execution_count": 7,
   "metadata": {},
   "outputs": [
    {
     "ename": "NameError",
     "evalue": "name '__file__' is not defined",
     "output_type": "error",
     "traceback": [
      "\u001b[31m---------------------------------------------------------------------------\u001b[39m",
      "\u001b[31mNameError\u001b[39m                                 Traceback (most recent call last)",
      "\u001b[36mCell\u001b[39m\u001b[36m \u001b[39m\u001b[32mIn[7]\u001b[39m\u001b[32m, line 1\u001b[39m\n\u001b[32m----> \u001b[39m\u001b[32m1\u001b[39m files = [file \u001b[38;5;28;01mfor\u001b[39;00m file \u001b[38;5;129;01min\u001b[39;00m os.listdir(os.path.dirname(os.path.abspath(\u001b[34;43m__file__\u001b[39;49m))) \u001b[38;5;28;01mif\u001b[39;00m file.endswith(\u001b[33m\"\u001b[39m\u001b[33m.csv\u001b[39m\u001b[33m\"\u001b[39m)]\n",
      "\u001b[31mNameError\u001b[39m: name '__file__' is not defined"
     ]
    }
   ],
   "source": [
    "files = [file for file in os.listdir(os.path.dirname(os.path.abspath(__file__))) if file.endswith(\".csv\")]"
   ]
  },
  {
   "cell_type": "code",
   "execution_count": 24,
   "metadata": {},
   "outputs": [],
   "source": [
    "df = pd.read_csv(\"WebAccess/014400.csv\",encoding=\"CP932\")"
   ]
  },
  {
   "cell_type": "code",
   "execution_count": 27,
   "metadata": {},
   "outputs": [
    {
     "data": {
      "text/plain": [
       "['https://nskkogyo.sharepoint.com/:f:/s/2019/EtnwHQtR9G9Do6l_rFcpENABIl_UJZrJQJtBPzjJoNtYmw',\n",
       " 'https://nskkogyo.sharepoint.com/sites/2019/_layouts/15/viewer.aspx?sourcedoc={16398997-0f91-4b25-85bb-adcd95ba1454}',\n",
       " 'https://nskkogyo.sharepoint.com/sites/2019/_layouts/15/viewer.aspx?sourcedoc={a0391c66-e0c7-4d1c-8415-955dd356f1d4}',\n",
       " 'https://nskkogyo.sharepoint.com/sites/2019/_layouts/15/viewer.aspx?sourcedoc={2a586df0-b2e8-44a0-b17f-0804b66c9fe1}',\n",
       " 'https://nskkogyo.sharepoint.com/sites/2019/_layouts/15/viewer.aspx?sourcedoc={70c21d0b-af39-4464-a333-72cee443ef5b}',\n",
       " 'https://nskkogyo.sharepoint.com/sites/2019/_layouts/15/viewer.aspx?sourcedoc={86024541-7ed5-4e0e-8381-37d172d4f871}',\n",
       " 'https://nskkogyo.sharepoint.com/:f:/s/2019/EufjhvDxQcFHs-Lx3wOzY3UBsIZ5dG8lePEkVTgGkN3T0Q',\n",
       " 'https://nskkogyo.sharepoint.com/sites/2019/_layouts/15/viewer.aspx?sourcedoc={d412c823-5626-4bea-bc65-a090c21ee4cc}',\n",
       " 'https://nskkogyo.sharepoint.com/sites/2019/_layouts/15/viewer.aspx?sourcedoc={3323e71e-dcce-4121-b4fe-804a1f01f056}',\n",
       " 'https://nskkogyo.sharepoint.com/sites/2019/_layouts/15/viewer.aspx?sourcedoc={907ca56b-354e-4e32-982a-c5ba1c25243f}']"
      ]
     },
     "execution_count": 27,
     "metadata": {},
     "output_type": "execute_result"
    }
   ],
   "source": [
    "df['資料リンク'][:10].to_list()"
   ]
  },
  {
   "cell_type": "code",
   "execution_count": 12,
   "metadata": {},
   "outputs": [
    {
     "data": {
      "text/html": [
       "<div>\n",
       "<style scoped>\n",
       "    .dataframe tbody tr th:only-of-type {\n",
       "        vertical-align: middle;\n",
       "    }\n",
       "\n",
       "    .dataframe tbody tr th {\n",
       "        vertical-align: top;\n",
       "    }\n",
       "\n",
       "    .dataframe thead th {\n",
       "        text-align: right;\n",
       "    }\n",
       "</style>\n",
       "<table border=\"1\" class=\"dataframe\">\n",
       "  <thead>\n",
       "    <tr style=\"text-align: right;\">\n",
       "      <th></th>\n",
       "      <th>案件番号</th>\n",
       "    </tr>\n",
       "  </thead>\n",
       "  <tbody>\n",
       "    <tr>\n",
       "      <th>0</th>\n",
       "      <td>450717</td>\n",
       "    </tr>\n",
       "    <tr>\n",
       "      <th>1</th>\n",
       "      <td>452146</td>\n",
       "    </tr>\n",
       "    <tr>\n",
       "      <th>2</th>\n",
       "      <td>452366</td>\n",
       "    </tr>\n",
       "    <tr>\n",
       "      <th>3</th>\n",
       "      <td>459639</td>\n",
       "    </tr>\n",
       "    <tr>\n",
       "      <th>4</th>\n",
       "      <td>462312</td>\n",
       "    </tr>\n",
       "    <tr>\n",
       "      <th>...</th>\n",
       "      <td>...</td>\n",
       "    </tr>\n",
       "    <tr>\n",
       "      <th>748</th>\n",
       "      <td>471919</td>\n",
       "    </tr>\n",
       "    <tr>\n",
       "      <th>749</th>\n",
       "      <td>473385</td>\n",
       "    </tr>\n",
       "    <tr>\n",
       "      <th>750</th>\n",
       "      <td>473316</td>\n",
       "    </tr>\n",
       "    <tr>\n",
       "      <th>751</th>\n",
       "      <td>475903</td>\n",
       "    </tr>\n",
       "    <tr>\n",
       "      <th>752</th>\n",
       "      <td>475458</td>\n",
       "    </tr>\n",
       "  </tbody>\n",
       "</table>\n",
       "<p>753 rows × 1 columns</p>\n",
       "</div>"
      ],
      "text/plain": [
       "       案件番号\n",
       "0    450717\n",
       "1    452146\n",
       "2    452366\n",
       "3    459639\n",
       "4    462312\n",
       "..      ...\n",
       "748  471919\n",
       "749  473385\n",
       "750  473316\n",
       "751  475903\n",
       "752  475458\n",
       "\n",
       "[753 rows x 1 columns]"
      ]
     },
     "execution_count": 12,
     "metadata": {},
     "output_type": "execute_result"
    }
   ],
   "source": []
  },
  {
   "cell_type": "code",
   "execution_count": null,
   "metadata": {},
   "outputs": [],
   "source": []
  }
 ],
 "metadata": {
  "kernelspec": {
   "display_name": ".venv",
   "language": "python",
   "name": "python3"
  },
  "language_info": {
   "codemirror_mode": {
    "name": "ipython",
    "version": 3
   },
   "file_extension": ".py",
   "mimetype": "text/x-python",
   "name": "python",
   "nbconvert_exporter": "python",
   "pygments_lexer": "ipython3",
   "version": "3.12.9"
  }
 },
 "nbformat": 4,
 "nbformat_minor": 2
}
